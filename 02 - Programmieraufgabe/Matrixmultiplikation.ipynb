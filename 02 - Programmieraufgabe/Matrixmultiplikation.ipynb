{
 "cells": [
  {
   "cell_type": "code",
   "execution_count": 2,
   "id": "337eb719",
   "metadata": {},
   "outputs": [],
   "source": [
    "import numpy as np\n",
    "import matplotlib.pyplot as plt"
   ]
  },
  {
   "cell_type": "code",
   "execution_count": 12,
   "id": "4cc712e1",
   "metadata": {},
   "outputs": [
    {
     "name": "stdout",
     "output_type": "stream",
     "text": [
      "A:  [[ 0.  1.]\n",
      " [ 4. -0.]]\n",
      "b:  [0.2 0.5]\n",
      "\n",
      "result:  [0.5 0.8]\n"
     ]
    }
   ],
   "source": [
    "matrixA = np.array([[0, 1],[4, -2 * (0 * 0.1)]])\n",
    "b = np.array([0.2, 0.5])\n",
    "\n",
    "print(\"A: \", matrixA)\n",
    "print(\"b: \", b)\n",
    "print()\n",
    "print(\"result: \", np.dot(matrixA, b))"
   ]
  },
  {
   "cell_type": "code",
   "execution_count": 23,
   "id": "a1207b62",
   "metadata": {},
   "outputs": [
    {
     "name": "stdout",
     "output_type": "stream",
     "text": [
      "A:  [[ 0.   1. ]\n",
      " [ 4.  -0.1]]\n",
      "b:  [0.227  0.5423]\n",
      "\n",
      "result:  [0.5423  0.85377]\n"
     ]
    }
   ],
   "source": [
    "matrixA = np.array([[0, 1],[4, -2 * (0 + 0.5 * 0.1)]])\n",
    "# matrixB = np.array([[0.2, 1],[4, -2 * (0 + 0.5 * 0.1)]])\n",
    "\n",
    "\n",
    "b = np.array([0.2 + 0.1*0.5*0.54, \n",
    "              0.5 + 0.1*0.5*0.846])\n",
    "\n",
    "print(\"A: \", matrixA)\n",
    "print(\"b: \", b)\n",
    "print()\n",
    "print(\"result: \", np.dot(matrixA, b))"
   ]
  },
  {
   "cell_type": "code",
   "execution_count": 27,
   "id": "eda0fc0d",
   "metadata": {},
   "outputs": [
    {
     "data": {
      "text/plain": [
       "array([0.54166283, 0.84989743])"
      ]
     },
     "execution_count": 27,
     "metadata": {},
     "output_type": "execute_result"
    }
   ],
   "source": [
    "b1 = np.array([0.5, 0.8])\n",
    "b2 = np.array([0.54, 0.846])\n",
    "b3 = np.array([0.5423, 0.85377])\n",
    "b4 = np.array([0.585377,0.8998446])\n",
    "\n",
    "f_tau = 1/6 * b1 + 2/6 * b2 + 2/6 * b3 + 1/6 * b4\n",
    "f_tau"
   ]
  },
  {
   "cell_type": "code",
   "execution_count": 29,
   "id": "a71544db",
   "metadata": {},
   "outputs": [
    {
     "data": {
      "text/plain": [
       "array([0.25416628, 0.58498974])"
      ]
     },
     "execution_count": 29,
     "metadata": {},
     "output_type": "execute_result"
    }
   ],
   "source": [
    "u_tau = np.array([0.2 + 0.1 * 0.54166283, \n",
    "                  0.5+0.1*0.84989743])\n",
    "u_tau"
   ]
  },
  {
   "cell_type": "code",
   "execution_count": null,
   "id": "bfe79d90",
   "metadata": {},
   "outputs": [],
   "source": []
  }
 ],
 "metadata": {
  "kernelspec": {
   "display_name": "dno",
   "language": "python",
   "name": "python3"
  },
  "language_info": {
   "codemirror_mode": {
    "name": "ipython",
    "version": 3
   },
   "file_extension": ".py",
   "mimetype": "text/x-python",
   "name": "python",
   "nbconvert_exporter": "python",
   "pygments_lexer": "ipython3",
   "version": "3.12.9"
  }
 },
 "nbformat": 4,
 "nbformat_minor": 5
}
