{
 "cells": [
  {
   "cell_type": "code",
   "execution_count": 1,
   "id": "33de2701",
   "metadata": {},
   "outputs": [],
   "source": [
    "import numpy as np\n",
    "import matplotlib.pyplot as plt"
   ]
  },
  {
   "cell_type": "code",
   "execution_count": 4,
   "id": "5c1fcf2c",
   "metadata": {},
   "outputs": [],
   "source": [
    "class Adams_Bashforth():\n",
    "    def __init__(self, F, u0, tau, T):\n",
    "        self.F = F\n",
    "        self.u0 = u0\n",
    "        self.tau = tau\n",
    "        self.T = T\n",
    "\n",
    "        self.n_steps = int(T / tau)\n",
    "        self.u = np.zeros(self.N + 1)\n",
    "        self.u[0] = u0\n",
    "\n",
    "    def call(self):\n",
    "        u = np.zeros((self.n_steps + 1, self.dim))\n",
    "        t = np.linspace(0, self.T, self.n_steps + 1)\n",
    "\n",
    "        u[0] = self.u0\n",
    "\n",
    "        u[1] = u[0] + self.tau * self.F(t[0], u[0])\n",
    "\n",
    "\n",
    "        for k in range(1, self.n_steps):\n",
    "            f_k = self.F(t[k], u[k])\n",
    "            f_km1 = self.F(t[k-1], u[k-1])\n",
    "            u[k+1] = u[k] + self.tau * ((3/2)*f_k - (1/2)*f_km1)\n",
    "\n",
    "        return t, u"
   ]
  },
  {
   "cell_type": "code",
   "execution_count": 5,
   "id": "35771275",
   "metadata": {},
   "outputs": [
    {
     "ename": "AttributeError",
     "evalue": "'Adams_Bashforth' object has no attribute 'N'",
     "output_type": "error",
     "traceback": [
      "\u001b[31m---------------------------------------------------------------------------\u001b[39m",
      "\u001b[31mAttributeError\u001b[39m                            Traceback (most recent call last)",
      "\u001b[36mCell\u001b[39m\u001b[36m \u001b[39m\u001b[32mIn[5]\u001b[39m\u001b[32m, line 4\u001b[39m\n\u001b[32m      1\u001b[39m \u001b[38;5;28;01mdef\u001b[39;00m\u001b[38;5;250m \u001b[39m\u001b[34mF_a\u001b[39m(t, u):\n\u001b[32m      2\u001b[39m     \u001b[38;5;28;01mreturn\u001b[39;00m -\u001b[32m20\u001b[39m * u\n\u001b[32m----> \u001b[39m\u001b[32m4\u001b[39m solver = \u001b[43mAdams_Bashforth\u001b[49m\u001b[43m(\u001b[49m\u001b[43mF_a\u001b[49m\u001b[43m,\u001b[49m\u001b[43m \u001b[49m\u001b[43mu0\u001b[49m\u001b[43m=\u001b[49m\u001b[32;43m1\u001b[39;49m\u001b[43m,\u001b[49m\u001b[43m \u001b[49m\u001b[43mtau\u001b[49m\u001b[43m=\u001b[49m\u001b[32;43m0.01\u001b[39;49m\u001b[43m,\u001b[49m\u001b[43m \u001b[49m\u001b[43mT\u001b[49m\u001b[43m=\u001b[49m\u001b[32;43m1\u001b[39;49m\u001b[43m)\u001b[49m\n\u001b[32m      5\u001b[39m t, u = solver.call()\n\u001b[32m      7\u001b[39m u_exact = \u001b[32m5\u001b[39m * np.exp(-\u001b[32m20\u001b[39m * t)\n",
      "\u001b[36mCell\u001b[39m\u001b[36m \u001b[39m\u001b[32mIn[4]\u001b[39m\u001b[32m, line 9\u001b[39m, in \u001b[36mAdams_Bashforth.__init__\u001b[39m\u001b[34m(self, F, u0, tau, T)\u001b[39m\n\u001b[32m      6\u001b[39m \u001b[38;5;28mself\u001b[39m.T = T\n\u001b[32m      8\u001b[39m \u001b[38;5;28mself\u001b[39m.n_steps = \u001b[38;5;28mint\u001b[39m(T / tau)\n\u001b[32m----> \u001b[39m\u001b[32m9\u001b[39m \u001b[38;5;28mself\u001b[39m.u = np.zeros(\u001b[38;5;28;43mself\u001b[39;49m\u001b[43m.\u001b[49m\u001b[43mN\u001b[49m + \u001b[32m1\u001b[39m)\n\u001b[32m     10\u001b[39m \u001b[38;5;28mself\u001b[39m.u[\u001b[32m0\u001b[39m] = u0\n",
      "\u001b[31mAttributeError\u001b[39m: 'Adams_Bashforth' object has no attribute 'N'"
     ]
    }
   ],
   "source": [
    "def F_a(t, u):\n",
    "    return -20 * u\n",
    "\n",
    "solver = Adams_Bashforth(F_a, u0=1, tau=0.01, T=1)\n",
    "t, u = solver.call()\n",
    "\n",
    "u_exact = 5 * np.exp(-20 * t)\n",
    "\n",
    "plt.plot(t, u, label='Adams-Bashforth')\n",
    "plt.plot(t, u_exact, '--', label='Analytisch')\n",
    "plt.xlabel('t')\n",
    "plt.ylabel('u(t)')\n",
    "plt.legend()\n",
    "plt.title('Vergleich: numerisch vs. analytisch (Teil a)')\n",
    "plt.grid()\n",
    "plt.show()"
   ]
  },
  {
   "cell_type": "code",
   "execution_count": null,
   "id": "a02a1a04",
   "metadata": {},
   "outputs": [],
   "source": []
  },
  {
   "cell_type": "code",
   "execution_count": null,
   "id": "a77f9c0a",
   "metadata": {},
   "outputs": [],
   "source": []
  }
 ],
 "metadata": {
  "kernelspec": {
   "display_name": "dno",
   "language": "python",
   "name": "python3"
  },
  "language_info": {
   "codemirror_mode": {
    "name": "ipython",
    "version": 3
   },
   "file_extension": ".py",
   "mimetype": "text/x-python",
   "name": "python",
   "nbconvert_exporter": "python",
   "pygments_lexer": "ipython3",
   "version": "3.12.9"
  }
 },
 "nbformat": 4,
 "nbformat_minor": 5
}
