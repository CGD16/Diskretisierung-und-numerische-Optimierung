{
 "cells": [
  {
   "cell_type": "code",
   "execution_count": null,
   "id": "3bd69964",
   "metadata": {},
   "outputs": [
    {
     "data": {
      "text/plain": [
       "'\\npath_to_algorithms = os.path.abspath(\"../01 - Programmieraufgabe\")\\nif path_to_algorithms not in sys.path:\\n    sys.path.insert(0, path_to_algorithms)\\n\\n\\n'"
      ]
     },
     "execution_count": 3,
     "metadata": {},
     "output_type": "execute_result"
    }
   ],
   "source": [
    "import numpy as np\n",
    "\n",
    "import matplotlib\n",
    "import matplotlib.pyplot as plt \n",
    "\n",
    "from scipy import optimize  \n",
    "\n",
    "import sys\n",
    "import os\n",
    "\n",
    "# Construct the relative path to the other folder\n",
    "path_to_algorithms = os.path.abspath(\"../01 - Programmieraufgabe\")\n",
    "if path_to_algorithms not in sys.path:\n",
    "    sys.path.insert(0, path_to_algorithms)\n",
    "\n",
    "from algorithms import eEuler, iEuler, RK4\n",
    "\n",
    "'''\n",
    "path_to_algorithms = os.path.abspath(\"../01 - Programmieraufgabe\")\n",
    "if path_to_algorithms not in sys.path:\n",
    "    sys.path.insert(0, path_to_algorithms)\n",
    "'''"
   ]
  },
  {
   "cell_type": "code",
   "execution_count": null,
   "id": "5437da04",
   "metadata": {},
   "outputs": [],
   "source": []
  },
  {
   "cell_type": "code",
   "execution_count": null,
   "id": "3002e0f8",
   "metadata": {},
   "outputs": [],
   "source": []
  },
  {
   "cell_type": "code",
   "execution_count": null,
   "id": "0dc9fd4e",
   "metadata": {},
   "outputs": [],
   "source": [
    "def adams_bashforth_verfahren(fun, Y0=[0,1], t=[0,5], steps=10):\n",
    "    pass\n"
   ]
  },
  {
   "cell_type": "code",
   "execution_count": null,
   "id": "88f22d77",
   "metadata": {},
   "outputs": [],
   "source": []
  }
 ],
 "metadata": {
  "kernelspec": {
   "display_name": "dno",
   "language": "python",
   "name": "python3"
  },
  "language_info": {
   "codemirror_mode": {
    "name": "ipython",
    "version": 3
   },
   "file_extension": ".py",
   "mimetype": "text/x-python",
   "name": "python",
   "nbconvert_exporter": "python",
   "pygments_lexer": "ipython3",
   "version": "3.12.9"
  }
 },
 "nbformat": 4,
 "nbformat_minor": 5
}
